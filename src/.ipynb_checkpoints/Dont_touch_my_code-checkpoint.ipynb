{
 "cells": [
  {
   "cell_type": "code",
   "execution_count": 1,
   "id": "91e5fd18",
   "metadata": {},
   "outputs": [],
   "source": [
    "import numpy as np\n",
    "import torch\n",
    "from models import AttU_Net\n",
    "from models import Link_U_Net\n",
    "import matplotlib.pyplot as plt"
   ]
  },
  {
   "cell_type": "code",
   "execution_count": 2,
   "id": "3bf73860",
   "metadata": {},
   "outputs": [],
   "source": [
    "i = 5\n",
    "imgs = torch.ones([1, 3, 572+16*i, 572+16*i])"
   ]
  },
  {
   "cell_type": "code",
   "execution_count": 3,
   "id": "290bf382",
   "metadata": {},
   "outputs": [],
   "source": [
    "model = Link_U_Net.Link_U_Net(img_ch=3)\n",
    "pred = model(imgs)"
   ]
  },
  {
   "cell_type": "code",
   "execution_count": 5,
   "id": "018401dc",
   "metadata": {},
   "outputs": [],
   "source": [
    "pred.shape"
   ]
  },
  {
   "cell_type": "code",
   "execution_count": null,
   "id": "c192cc06",
   "metadata": {},
   "outputs": [],
   "source": [
    "plt.imshow(pred.detach().numpy().squeeze())\n",
    "plt.show()"
   ]
  },
  {
   "cell_type": "code",
   "execution_count": null,
   "id": "b435647f",
   "metadata": {},
   "outputs": [],
   "source": []
  }
 ],
 "metadata": {
  "kernelspec": {
   "display_name": "Seg",
   "language": "python",
   "name": "seg"
  },
  "language_info": {
   "codemirror_mode": {
    "name": "ipython",
    "version": 3
   },
   "file_extension": ".py",
   "mimetype": "text/x-python",
   "name": "python",
   "nbconvert_exporter": "python",
   "pygments_lexer": "ipython3",
   "version": "3.9.7"
  }
 },
 "nbformat": 4,
 "nbformat_minor": 5
}
